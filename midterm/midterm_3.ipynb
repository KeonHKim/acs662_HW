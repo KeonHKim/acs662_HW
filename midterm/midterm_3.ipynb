{
 "cells": [
  {
   "cell_type": "code",
   "execution_count": 1,
   "id": "69b40660-a4ff-485c-ad29-d1279d0053d7",
   "metadata": {},
   "outputs": [
    {
     "data": {
      "application/vnd.jupyter.widget-view+json": {
       "model_id": "2fb9aa28d93f4863b7ba687d29867994",
       "version_major": 2,
       "version_minor": 0
      },
      "text/plain": [
       "Canvas(toolbar=Toolbar(toolitems=[('Home', 'Reset original view', 'home', 'home'), ('Back', 'Back to previous …"
      ]
     },
     "metadata": {},
     "output_type": "display_data"
    },
    {
     "data": {
      "application/vnd.jupyter.widget-view+json": {
       "model_id": "7ee5c83664ce4907b17d6c507477e7bf",
       "version_major": 2,
       "version_minor": 0
      },
      "text/plain": [
       "Canvas(toolbar=Toolbar(toolitems=[('Home', 'Reset original view', 'home', 'home'), ('Back', 'Back to previous …"
      ]
     },
     "metadata": {},
     "output_type": "display_data"
    },
    {
     "data": {
      "application/vnd.jupyter.widget-view+json": {
       "model_id": "86257872930d4836856fabce718801ef",
       "version_major": 2,
       "version_minor": 0
      },
      "text/plain": [
       "Canvas(toolbar=Toolbar(toolitems=[('Home', 'Reset original view', 'home', 'home'), ('Back', 'Back to previous …"
      ]
     },
     "metadata": {},
     "output_type": "display_data"
    }
   ],
   "source": [
    "\"\"\"\n",
    "#3\n",
    "By Keon Hee Kim\n",
    "\"\"\"\n",
    "\n",
    "import numpy as np\n",
    "import tables as tb\n",
    "import matplotlib.pyplot as plt\n",
    "from matplotlib.gridspec import GridSpec\n",
    "from matplotlib import animation as manimation\n",
    "%matplotlib ipympl\n",
    "\n",
    "#Data set\n",
    "particles = []\n",
    "x = []\n",
    "xp = []\n",
    "y = []\n",
    "yp = []\n",
    "\n",
    "#Read the files\n",
    "for i in range(101):\n",
    "    particles_h5file = tb.open_file(f'particles_{str(i).zfill(4)}.h5', 'r')\n",
    "    particles = particles_h5file.root.particles.read()\n",
    "    x_new = particles[:,0] * 1e3 #[mm]\n",
    "    x.append(x_new)\n",
    "    xp_new = particles[:,1] * 1e3 #[mrad]\n",
    "    xp.append(xp_new)\n",
    "    y_new = particles[:,2] * 1e3 #[mm]\n",
    "    y.append(y_new)\n",
    "    yp_new = particles[:,3] * 1e3 #[mrad]\n",
    "    yp.append(yp_new)\n",
    "    particles_h5file.close()\n",
    "    \n",
    "#Animate horizontal phase space\n",
    "fig_h = plt.figure(figsize = (10,10))\n",
    "fig_h.suptitle('Horizontal Phase Space', size=20)\n",
    "gs_h = GridSpec(4, 4)\n",
    "ax_h = fig_h.add_subplot(gs_h[1:4, 0:3])\n",
    "ax_h.set_xlim([-400, 400])\n",
    "ax_h.set_ylim([-30, 30])\n",
    "\n",
    "ax_h.set_xlabel('x [mm]', fontsize=15)\n",
    "ax_h.set_ylabel('xp [mrad]', fontsize=15)\n",
    "\n",
    "ax_h_hist_x = fig_h.add_subplot(gs_h[0, 0:3])\n",
    "ax_h_hist_xp = fig_h.add_subplot(gs_h[1:4, 3])\n",
    "\n",
    "fig_h.tight_layout()\n",
    "fig_h.subplots_adjust(hspace=0.4,wspace=0.4)\n",
    "\n",
    "plot_particles_h = ax_h.scatter([], [], s=5)\n",
    "\n",
    "def animate_h(i):\n",
    "    plot_particles_h.set_offsets(np.c_[x[i][:], xp[i][:]])\n",
    "    ax_h_hist_x.clear()\n",
    "    ax_h_hist_xp.clear()\n",
    "    ax_h_hist_x.set_xlim([-400, 400])\n",
    "    ax_h_hist_x.set_ylim([0, 4000])\n",
    "    ax_h_hist_xp.set_xlim([0, 4000])\n",
    "    ax_h_hist_xp.set_ylim([-30, 30])\n",
    "    ax_h_hist_x.hist(x[i][:], histtype=\"step\", bins=100)\n",
    "    ax_h_hist_xp.hist(xp[i][:], histtype=\"step\", bins=100, orientation = 'horizontal')\n",
    "    ax_h.set_title(str(i))\n",
    "\n",
    "anime_h = manimation.FuncAnimation(fig_h, animate_h, frames=range(101), interval=200, blit=True, repeat=False)\n",
    "anime_h.save('horizontal.mp4', fps=5, extra_args=['-vcodec', 'libx264'])\n",
    "plt.show()\n",
    "\n",
    "#Animate vertical phase space\n",
    "fig_v = plt.figure(figsize = (10,10))\n",
    "fig_v.suptitle('Vertical Phase Space', size=20)\n",
    "gs_v = GridSpec(4, 4)\n",
    "ax_v = fig_v.add_subplot(gs_v[1:4, 0:3])\n",
    "ax_v.set_xlim([-200, 200])\n",
    "ax_v.set_ylim([-30, 30])\n",
    "\n",
    "ax_v.set_xlabel('y [mm]', fontsize=15)\n",
    "ax_v.set_ylabel('yp [mrad]', fontsize=15)\n",
    "\n",
    "ax_v_hist_y = fig_v.add_subplot(gs_v[0, 0:3])\n",
    "ax_v_hist_yp = fig_v.add_subplot(gs_v[1:4, 3])\n",
    "\n",
    "fig_v.tight_layout()\n",
    "fig_v.subplots_adjust(hspace=0.4,wspace=0.4)\n",
    "\n",
    "plot_particles_v = ax_v.scatter([], [], s=5)\n",
    "\n",
    "def animate_v(i):\n",
    "    plot_particles_v.set_offsets(np.c_[y[i][:], yp[i][:]])\n",
    "    ax_v_hist_y.clear()\n",
    "    ax_v_hist_yp.clear()\n",
    "    ax_v_hist_y.set_xlim([-200, 200])\n",
    "    ax_v_hist_y.set_ylim([0, 4000])\n",
    "    ax_v_hist_yp.set_xlim([0, 4000])\n",
    "    ax_v_hist_yp.set_ylim([-30, 30])\n",
    "    ax_v_hist_y.hist(y[i][:], histtype=\"step\", bins=100)\n",
    "    ax_v_hist_yp.hist(yp[i][:], histtype=\"step\", bins=100, orientation = 'horizontal')\n",
    "    ax_v.set_title(str(i))\n",
    "\n",
    "anime_v = manimation.FuncAnimation(fig_v, animate_v, frames=range(101), interval=200, blit=True, repeat=False)\n",
    "anime_v.save('vertical.mp4', fps=5, extra_args=['-vcodec', 'libx264'])\n",
    "plt.show()\n",
    "\n",
    "#Animate cross-section phase space\n",
    "fig_c = plt.figure(figsize = (10,10))\n",
    "fig_c.suptitle('Cross-section Phase Space', size=20)\n",
    "gs_c = GridSpec(4, 4)\n",
    "ax_c = fig_c.add_subplot(gs_c[1:4, 0:3])\n",
    "ax_c.set_xlim([-400, 400])\n",
    "ax_c.set_ylim([-200, 200])\n",
    "\n",
    "ax_c.set_xlabel('x [mm]', fontsize=15)\n",
    "ax_c.set_ylabel('y [mm]', fontsize=15)\n",
    "\n",
    "ax_c_hist_x = fig_c.add_subplot(gs_c[0, 0:3])\n",
    "ax_c_hist_y = fig_c.add_subplot(gs_c[1:4, 3])\n",
    "\n",
    "fig_c.tight_layout()\n",
    "fig_c.subplots_adjust(hspace=0.4,wspace=0.4)\n",
    "\n",
    "plot_particles_c = ax_c.scatter([], [], s=5)\n",
    "\n",
    "def animate_c(i):\n",
    "    plot_particles_c.set_offsets(np.c_[x[i][:], y[i][:]])\n",
    "    ax_c_hist_x.clear()\n",
    "    ax_c_hist_y.clear()\n",
    "    ax_c_hist_x.set_xlim([-400, 400])\n",
    "    ax_c_hist_x.set_ylim([0, 4000])\n",
    "    ax_c_hist_y.set_xlim([0, 4000])\n",
    "    ax_c_hist_y.set_ylim([-200, 200])\n",
    "    ax_c_hist_x.hist(x[i][:], histtype=\"step\", bins=100)\n",
    "    ax_c_hist_y.hist(y[i][:], histtype=\"step\", bins=100, orientation = 'horizontal')\n",
    "    ax_c.set_title(str(i))\n",
    "\n",
    "anime_c = manimation.FuncAnimation(fig_c, animate_c, frames=range(101), interval=200, blit=True, repeat=False)\n",
    "anime_c.save('cross-section.mp4', fps=5, extra_args=['-vcodec', 'libx264'])\n",
    "plt.show()"
   ]
  }
 ],
 "metadata": {
  "kernelspec": {
   "display_name": "Python 3 (ipykernel)",
   "language": "python",
   "name": "python3"
  },
  "language_info": {
   "codemirror_mode": {
    "name": "ipython",
    "version": 3
   },
   "file_extension": ".py",
   "mimetype": "text/x-python",
   "name": "python",
   "nbconvert_exporter": "python",
   "pygments_lexer": "ipython3",
   "version": "3.7.11"
  }
 },
 "nbformat": 4,
 "nbformat_minor": 5
}
