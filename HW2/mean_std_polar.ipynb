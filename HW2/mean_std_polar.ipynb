{
 "cells": [
  {
   "cell_type": "code",
   "execution_count": 2,
   "id": "cc7956d3-f6cb-4d62-87cf-37566f2516e3",
   "metadata": {},
   "outputs": [
    {
     "name": "stdout",
     "output_type": "stream",
     "text": [
      "Mean of positions in the polar coordinates:\n",
      "[0.70363915 0.75270993]\n",
      "\n",
      "\n",
      "Std of positions in the polar coordinates:\n",
      "[0.31468981 0.40337414]\n"
     ]
    }
   ],
   "source": [
    "import numpy as np\n",
    "from particles import z\n",
    "\n",
    "def Cartesian_to_polar(x, y):\n",
    "    r = np.sqrt(x**2 + y**2)\n",
    "    theta = np.arctan(y / x)\n",
    "    \"\"\"Here, the unit of theta is [rad].\"\"\"\n",
    "    \n",
    "    coord_polar = np.array([r, theta])\n",
    "    \n",
    "    return coord_polar\n",
    "\n",
    "coord_polar = np.zeros((len(z), 2))\n",
    "\n",
    "for i in range(len(z)):\n",
    "    coord_polar[i, :] = Cartesian_to_polar(x=z[i, 0], y=z[i, 1])\n",
    "    \n",
    "mean_coord_polar = np.array([np.mean(coord_polar[:, 0]), np.mean(coord_polar[:, 1])])\n",
    "std_coord_polar = np.array([np.std(coord_polar[:, 0]), np.std(coord_polar[:, 1])])\n",
    "\n",
    "print('Mean of positions in the polar coordinates:')\n",
    "print(mean_coord_polar)\n",
    "print(\"\\n\")\n",
    "print('Std of positions in the polar coordinates:')\n",
    "print(std_coord_polar)"
   ]
  }
 ],
 "metadata": {
  "kernelspec": {
   "display_name": "Python 3 (ipykernel)",
   "language": "python",
   "name": "python3"
  },
  "language_info": {
   "codemirror_mode": {
    "name": "ipython",
    "version": 3
   },
   "file_extension": ".py",
   "mimetype": "text/x-python",
   "name": "python",
   "nbconvert_exporter": "python",
   "pygments_lexer": "ipython3",
   "version": "3.7.11"
  }
 },
 "nbformat": 4,
 "nbformat_minor": 5
}
